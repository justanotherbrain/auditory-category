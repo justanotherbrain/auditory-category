{
 "cells": [
  {
   "cell_type": "markdown",
   "metadata": {},
   "source": [
    "# Auditory category analysis\n",
    "\n",
    "### Introduction:\n",
    "Here I will analyze the category data for different stimuli. In this analysis, each cell will represent a dimension in a high dimensional \"neural space.\" We are using the mean df/f response to being with. We will then see how different types of stimulus morphing is represented in the space.\n",
    "\n",
    "### Programming:\n",
    "We are using Python 2.7 as the programming language with pandas dataframes and numpy. Numpy is Python's linear algebra library of choice. Pandas is a dataframe library that allows efficient storage and analysis with arbitrarily large datasets. "
   ]
  },
  {
   "cell_type": "code",
   "execution_count": 1,
   "metadata": {
    "collapsed": false
   },
   "outputs": [],
   "source": [
    "# import dependencies\n",
    "import pandas as pd\n",
    "import numpy as np\n",
    "import matplotlib.pyplot as plt\n",
    "import matplotlib.patches as patches\n",
    "%matplotlib inline"
   ]
  },
  {
   "cell_type": "code",
   "execution_count": 2,
   "metadata": {
    "collapsed": true
   },
   "outputs": [],
   "source": [
    "# Load data in a Pandas dataframe\n",
    "fn = \"fixed_data.csv\"\n",
    "df = pd.read_csv(fn, header=0)\n",
    "header = df.columns.values"
   ]
  },
  {
   "cell_type": "code",
   "execution_count": 35,
   "metadata": {
    "collapsed": false
   },
   "outputs": [],
   "source": [
    "# Filter out all cells that have empty entries. Only want the good stuff!\n",
    "N = len(df)\n",
    "bad_idx = []\n",
    "for h in header:\n",
    "    A = np.where(np.isnan(df[h]))\n",
    "    for a in A[0]:\n",
    "        if a in bad_idx:\n",
    "            continue\n",
    "        else:\n",
    "            bad_idx.append(a)\n",
    "\n",
    "good_idx = []\n",
    "for i in range(N):\n",
    "    if i in bad_idx:\n",
    "        continue\n",
    "    else:\n",
    "        good_idx.append(i)"
   ]
  },
  {
   "cell_type": "code",
   "execution_count": 4,
   "metadata": {
    "collapsed": false
   },
   "outputs": [],
   "source": [
    "# Organize data\n",
    "dff_data = df[header[1:10]].T.values[:,good_idx]\n",
    "fast_data = df[header[11:14]].T.values[:,good_idx]\n",
    "slow_data = df[header[15:17]].T.values[:,good_idx]\n",
    "pitch_m10_data = df[header[np.array([18, 21])]].T.values[:,good_idx]\n",
    "pitch_m20_data = df[header[np.array([19,22])]].T.values[:,good_idx]\n",
    "pitch_p5_data = df[header[np.array([20, 23])]].T.values[:,good_idx]\n",
    "\n",
    "data = [dff_data, fast_data, slow_data, pitch_m10_data, pitch_m20_data, pitch_p5_data]\n",
    "categories = [\"dff\", \"fast\", \"slow\", \"pitch -10\", \"pitch -20\", \"pitch +5\"]\n",
    "\n",
    "N = len(good_idx)"
   ]
  },
  {
   "cell_type": "markdown",
   "metadata": {},
   "source": [
    "### MultiDim Class:\n",
    "This is a Python class that will allow us to work with multidimensional spaces. This will grow over time."
   ]
  },
  {
   "cell_type": "code",
   "execution_count": 5,
   "metadata": {
    "collapsed": false
   },
   "outputs": [],
   "source": [
    "class MultiDim:\n",
    "\n",
    "    def Mean(self, data):\n",
    "        \"\"\"\n",
    "        multidimensional arithmetic mean. \n",
    "        \n",
    "        data: mxn matrix, where n is dimensionality of space and m is \n",
    "              number of samples\n",
    "        \"\"\"\n",
    "        return np.nanmean(data, 0)\n",
    "        \n",
    "\n",
    "    def Var(self, data):\n",
    "        return np.nanvar(data, 0)\n",
    "    \n",
    "    \n",
    "    def Distance(self, a, b, distance='euclidean'):\n",
    "        \"\"\"\n",
    "        Get distance between two points in n dimesnional space\n",
    "        \n",
    "        a: n dim vector\n",
    "        b: n dim vector\n",
    "        distance: [euclidean], distance metric to use. only euclidean \n",
    "                  distance supported for now.\n",
    "        \"\"\"\n",
    "        return np.linalg.norm( a - b )\n",
    "    \n",
    "    \n",
    "    def Radius(self, data, distance='euclidean'):\n",
    "        \"\"\"\n",
    "        Get radius of ball, defined by distance of furthest point from mean\n",
    "        \n",
    "        data: mxn matrix, where n is dimensionality of space and m is \n",
    "              number of samples\n",
    "              \n",
    "        distance: [euclidean], is distance metric to use. Only euclidean \n",
    "                  distance supported for now.\n",
    "        \"\"\"\n",
    "        mean = self.Mean(data)\n",
    "        m = np.shape(data)[0]\n",
    "        radius = 0\n",
    "        for i in range(m):\n",
    "            tmp = self.Distance( mean, data[i,:], distance=distance )\n",
    "            if tmp > radius:\n",
    "                radius = tmp\n",
    "        return radius\n",
    "    \n",
    "    \n",
    "    def ConstructDistanceMatrix( self, points, distance='euclidean' ):\n",
    "        \"\"\"\n",
    "        Construct a distance matrix between given points\n",
    "        \n",
    "        points: mxn matrix, where n is dimensionality of space and m is\n",
    "                number of points\n",
    "        \n",
    "        distance: [euclidean], is distance metric to use. Only euclidean\n",
    "                  distance supported for now\n",
    "                  \n",
    "        A: mxm symmetric matrix where element [i,j] is distance between \n",
    "           points i and j. \n",
    "        \"\"\"\n",
    "        m = np.shape(points)[0]\n",
    "        A = np.zeros( (m,m) )\n",
    "        for i in range(m):\n",
    "            for j in range(i, m):\n",
    "                A[i,j] = self.Distance( points[i,:], points[j,:], distance=distance )\n",
    "                A[j,i] = A[i,j]\n",
    "        return A\n",
    "    \n",
    "    def MDS(self, A ):\n",
    "        \"\"\"\n",
    "        Classical MDS\n",
    "        \n",
    "        A: nxn matrix. Should be symmetric. Represents distances\n",
    "        \n",
    "        Y: (n, p) configuration matrix where each column is a dimension.\n",
    "           only returns up to p dimensions (positive eigenvalues)\n",
    "        \n",
    "        eval: eigenvalues\n",
    "        \"\"\"\n",
    "        n = len(A)\n",
    "        H = np.eye(n) - np.ones((n,n))/n\n",
    "        B = -H.dot(np.square(A)).dot(H)/2\n",
    "\n",
    "        evals, evecs = np.linalg.eigh(B)\n",
    "\n",
    "        idx = np.argsort(evals)[::-1]\n",
    "        evals = evals[idx]\n",
    "        evecs = evecs[:,idx]\n",
    "\n",
    "        w, = np.where(evals > 0)\n",
    "        L = np.diag(np.sqrt(evals[w]))\n",
    "        V = evecs[:,w]\n",
    "        Y = V.dot(L)\n",
    "\n",
    "        return Y, evals"
   ]
  },
  {
   "cell_type": "markdown",
   "metadata": {},
   "source": [
    "### Transforming the space:\n",
    "\n",
    "Here we will assume that each of the conditions represent a different cateogry. We assume euclidean distance everywhere (no reason to believe this, implies linearity and therefore simplest assumption). \n",
    "\n",
    "We will find a lower dimensional subspace that maximizes the pairwise distance between the different categories. Everything is linear, so classical MDS will be used."
   ]
  },
  {
   "cell_type": "code",
   "execution_count": 6,
   "metadata": {
    "collapsed": false
   },
   "outputs": [],
   "source": [
    "MD = MultiDim()\n",
    "\n",
    "means = []\n",
    "radii = []\n",
    "for d in data:\n",
    "    means.append(MD.Mean(d))\n",
    "    radii.append(MD.Radius(d))\n",
    "\n",
    "means = np.array(means)\n",
    "radii = np.array(radii)\n",
    "distance_matrix = MD.ConstructDistanceMatrix( means )\n",
    "\n",
    "mds_Y, mds_evals = MD.MDS( distance_matrix )"
   ]
  },
  {
   "cell_type": "code",
   "execution_count": 7,
   "metadata": {
    "collapsed": false
   },
   "outputs": [],
   "source": [
    "Y = np.dot(mds_Y.T[:2,:], distance_matrix)"
   ]
  },
  {
   "cell_type": "markdown",
   "metadata": {},
   "source": [
    "### Multi Dimensional Scaling Figure\n",
    "\n",
    "Below is the MDS plot. MDS is a visualization tool that allows us to imagine which points are closer together. The data is projected down into 2 dimensions (down from 60 in our case). The figure preserves pairwise distances as much as possible. Thus, points that are closer together in the MDS figure are closer together in the 60 dimensional neural space. Likewise, points that further apart are further apart in neural space.\n",
    "\n",
    "In this figure, the dots represent the means. The axes have arbitrary units."
   ]
  },
  {
   "cell_type": "code",
   "execution_count": 8,
   "metadata": {
    "collapsed": false
   },
   "outputs": [
    {
     "data": {
      "image/png": "[encoded data removed]",
      "text/plain": [
       "<matplotlib.figure.Figure at 0x1125ac7d0>"
      ]
     },
     "metadata": {},
     "output_type": "display_data"
    }
   ],
   "source": [
    "fig, ax = plt.subplots()\n",
    "ax.margins(0.05)\n",
    "for i in range(np.shape(Y)[1]):\n",
    "    ax.plot(Y[0,i], Y[1,i], marker='o', linestyle='', ms=12, label=categories[i])\n",
    "    #ax.add_patch(patches.Circle((Y[0,i], Y[1,i]), radii[i]))\n",
    "ax.legend(bbox_to_anchor=(1.4, 1))\n",
    "plt.title(\"MDS\")\n",
    "ax.get_xaxis().set_visible(False)\n",
    "ax.get_yaxis().set_visible(False)"
   ]
  },
  {
   "cell_type": "code",
   "execution_count": 15,
   "metadata": {
    "collapsed": false
   },
   "outputs": [
    {
     "data": {
      "image/png": "[encoded data removed]",
      "text/plain": [
       "<matplotlib.figure.Figure at 0x11844ea50>"
      ]
     },
     "metadata": {},
     "output_type": "display_data"
    }
   ],
   "source": [
    "fig, ax = plt.subplots();\n",
    "plt.pcolor(distance_matrix);\n",
    "ax.set_xticklabels(categories, minor=False);\n",
    "ax.set_yticklabels(categories, minor=False);"
   ]
  },
  {
   "cell_type": "code",
   "execution_count": 11,
   "metadata": {
    "collapsed": false
   },
   "outputs": [
    {
     "data": {
      "text/plain": [
       "array(['Cell #', 'P1.1B', 'P2.1D', 'P3.2F', '8.1b', '5.1F', '7.1B', '3.1b',\n",
       "       '8.2b', '9.1D', 'FAST 3B', 'FAST 7b', 'FAST 8b', '8B SLOW',\n",
       "       '7b slow', '7B: -10 ST', '7B: -20 ST', '7B: +5 ST', '8b: -10 ST',\n",
       "       '8b: -20 ST', '8b: +5 ST', 'FM DWN 2hz', 'FM DWN 5hz', 'FM DWN 10hz'], dtype=object)"
      ]
     },
     "execution_count": 11,
     "metadata": {},
     "output_type": "execute_result"
    }
   ],
   "source": [
    "header"
   ]
  },
  {
   "cell_type": "code",
   "execution_count": 18,
   "metadata": {
    "collapsed": false
   },
   "outputs": [
    {
     "data": {
      "text/plain": [
       "array([ 0.        ,  2.98091051,  3.34391034,  1.69042779,  2.20091799,\n",
       "        1.72105625])"
      ]
     },
     "execution_count": 18,
     "metadata": {},
     "output_type": "execute_result"
    }
   ],
   "source": [
    "distance_matrix[0,:]/60"
   ]
  },
  {
   "cell_type": "code",
   "execution_count": 49,
   "metadata": {
    "collapsed": false
   },
   "outputs": [],
   "source": [
    "\n",
    "data_7b = []\n",
    "for i in range(len(header)-1):\n",
    "    i=i+1\n",
    "    data_7b.append(np.reshape(df[header[i]].T.values[good_idx], (60,1) ))\n",
    "means_7b=[]\n",
    "radii_7b=[]\n",
    "for d in data_7b:\n",
    "    means_7b.append(MD.Mean(d))\n",
    "    radii_7b.append(MD.Radius(d))\n",
    "\n",
    "means_7b = np.array(means_7b)\n",
    "radii_7b = np.array(radii_7b)\n",
    "distance_matrix_7b = MD.ConstructDistanceMatrix( means_7b )\n",
    "\n",
    "mds_Y_7b, mds_evals_7b = MD.MDS( distance_matrix_7b )\n",
    "\n",
    "Y_7b = np.dot(mds_Y_7b.T[:2,:], distance_matrix_7b)"
   ]
  },
  {
   "cell_type": "code",
   "execution_count": 50,
   "metadata": {
    "collapsed": false
   },
   "outputs": [
    {
     "data": {
      "image/png": "[encoded data removed]",
      "text/plain": [
       "<matplotlib.figure.Figure at 0x1180cef90>"
      ]
     },
     "metadata": {},
     "output_type": "display_data"
    }
   ],
   "source": [
    "fig, ax = plt.subplots()\n",
    "ax.margins(0.05)\n",
    "cols_7b = [6, 11, 14, 15, 16, 17] #correct 7b, change header to categories, fix off-by-1 stuff\n",
    "for i in range(np.shape(Y_7b)[1]):\n",
    "    ax.plot(Y_7b[0,i], Y_7b[1,i], marker='o', linestyle='', ms=12, label=header[i+1])\n",
    "    #ax.add_patch(patches.Circle((Y[0,i], Y[1,i]), radii[i]))\n",
    "ax.legend(bbox_to_anchor=(1.4, 1))\n",
    "plt.title(\"MDS for 7b\")\n",
    "ax.get_xaxis().set_visible(False)\n",
    "ax.get_yaxis().set_visible(False)"
   ]
  },
  {
   "cell_type": "code",
   "execution_count": 52,
   "metadata": {
    "collapsed": false
   },
   "outputs": [
    {
     "data": {
      "image/png": "[encoded data removed]",
      "text/plain": [
       "<matplotlib.figure.Figure at 0x119227a10>"
      ]
     },
     "metadata": {},
     "output_type": "display_data"
    }
   ],
   "source": [
    "fig, ax = plt.subplots();\n",
    "plt.pcolor(distance_matrix_7b);\n",
    "ax.set_xticklabels(header[1:], minor=False);\n",
    "ax.set_yticklabels(header[1:], minor=False);"
   ]
  },
  {
   "cell_type": "markdown",
   "metadata": {},
   "source": [
    "### TODO:\n",
    "\n",
    "* Find scaling factor to plot radii in MDS space."
   ]
  }
 ],
 "metadata": {
  "anaconda-cloud": {},
  "kernelspec": {
   "display_name": "Python [Root]",
   "language": "python",
   "name": "Python [Root]"
  },
  "language_info": {
   "codemirror_mode": {
    "name": "ipython",
    "version": 2
   },
   "file_extension": ".py",
   "mimetype": "text/x-python",
   "name": "python",
   "nbconvert_exporter": "python",
   "pygments_lexer": "ipython2",
   "version": "2.7.11"
  }
 },
 "nbformat": 4,
 "nbformat_minor": 0
}
