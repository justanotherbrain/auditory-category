{
 "cells": [
  {
   "cell_type": "markdown",
   "metadata": {},
   "source": [
    "# Auditory category analysis\n",
    "\n",
    "### Introduction:\n",
    "Here I will analyze the category data for different stimuli. In this analysis, each cell will represent a dimension in a high dimensional \"neural space.\" We are using the mean df/f response to being with. We will then see how different types of stimulus morphing is represented in the space.\n",
    "\n",
    "### Programming:\n",
    "We are using Python 2.7 as the programming language with pandas dataframes and numpy. Numpy is Python's linear algebra library of choice. Pandas is a dataframe library that allows efficient storage and analysis with arbitrarily large datasets. "
   ]
  },
  {
   "cell_type": "code",
   "execution_count": 161,
   "metadata": {
    "collapsed": true
   },
   "outputs": [],
   "source": [
    "# import dependencies\n",
    "import pandas as pd\n",
    "import numpy as np\n",
    "import matplotlib.pyplot as plt\n",
    "import matplotlib.patches as patches\n",
    "%matplotlib inline"
   ]
  },
  {
   "cell_type": "code",
   "execution_count": 21,
   "metadata": {
    "collapsed": true
   },
   "outputs": [],
   "source": [
    "# Load data in a Pandas dataframe\n",
    "fn = \"fixed_data.csv\"\n",
    "df = pd.read_csv(fn, header=0)\n",
    "header = df.columns.values"
   ]
  },
  {
   "cell_type": "code",
   "execution_count": 93,
   "metadata": {
    "collapsed": false
   },
   "outputs": [],
   "source": [
    "# Filter out all cells that have empty entries. Only want the good stuff!\n",
    "N = len(df)\n",
    "bad_idx = []\n",
    "for h in header:\n",
    "    A = np.where(np.isnan(df[h]))\n",
    "    for a in A[0]:\n",
    "        if a in bad_idx:\n",
    "            continue\n",
    "        else:\n",
    "            bad_idx.append(a)\n",
    "\n",
    "good_idx = []\n",
    "for i in range(N):\n",
    "    if i in bad_idx:\n",
    "        continue\n",
    "    else:\n",
    "        good_idx.append(i)"
   ]
  },
  {
   "cell_type": "code",
   "execution_count": 106,
   "metadata": {
    "collapsed": false
   },
   "outputs": [],
   "source": [
    "# Organize data\n",
    "dff_data = df[header[1:10]].T.values[:,good_idx]\n",
    "fast_data = df[header[11:14]].T.values[:,good_idx]\n",
    "slow_data = df[header[15:17]].T.values[:,good_idx]\n",
    "pitch_m10_data = df[header[np.array([18, 21])]].T.values[:,good_idx]\n",
    "pitch_m20_data = df[header[np.array([19,22])]].T.values[:,good_idx]\n",
    "pitch_p5_data = df[header[np.array([20, 23])]].T.values[:,good_idx]\n",
    "\n",
    "data = [dff_data, fast_data, slow_data, pitch_m10_data, pitch_m20_data, pitch_p5_data]\n",
    "categories = [\"dff\", \"fast\", \"slow\", \"pitch -10\", \"pitch -20\", \"pitch +5\"]\n",
    "\n",
    "N = len(good_idx)"
   ]
  },
  {
   "cell_type": "markdown",
   "metadata": {},
   "source": [
    "### MultiDim Class:\n",
    "This is a Python class that will allow us to work with multidimensional spaces. This will grow over time."
   ]
  },
  {
   "cell_type": "code",
   "execution_count": 116,
   "metadata": {
    "collapsed": false
   },
   "outputs": [],
   "source": [
    "class MultiDim:\n",
    "\n",
    "    def Mean(self, data):\n",
    "        \"\"\"\n",
    "        multidimensional arithmetic mean. \n",
    "        \n",
    "        data: mxn matrix, where n is dimensionality of space and m is \n",
    "              number of samples\n",
    "        \"\"\"\n",
    "        return np.nanmean(data, 0)\n",
    "        \n",
    "\n",
    "    def Var(self, data):\n",
    "        return np.nanvar(data, 0)\n",
    "    \n",
    "    \n",
    "    def Distance(self, a, b, distance='euclidean'):\n",
    "        \"\"\"\n",
    "        Get distance between two points in n dimesnional space\n",
    "        \n",
    "        a: n dim vector\n",
    "        b: n dim vector\n",
    "        distance: [euclidean], distance metric to use. only euclidean \n",
    "                  distance supported for now.\n",
    "        \"\"\"\n",
    "        return np.linalg.norm( a - b )\n",
    "    \n",
    "    \n",
    "    def Radius(self, data, distance='euclidean'):\n",
    "        \"\"\"\n",
    "        Get radius of ball, defined by distance of furthest point from mean\n",
    "        \n",
    "        data: mxn matrix, where n is dimensionality of space and m is \n",
    "              number of samples\n",
    "              \n",
    "        distance: [euclidean], is distance metric to use. Only euclidean \n",
    "                  distance supported for now.\n",
    "        \"\"\"\n",
    "        mean = self.Mean(data)\n",
    "        m = np.shape(data)[0]\n",
    "        radius = 0\n",
    "        for i in range(m):\n",
    "            tmp = self.Distance( mean, data[i,:], distance=distance )\n",
    "            if tmp > radius:\n",
    "                radius = tmp\n",
    "        return radius\n",
    "    \n",
    "    \n",
    "    def ConstructDistanceMatrix( self, points, distance='euclidean' ):\n",
    "        \"\"\"\n",
    "        Construct a distance matrix between given points\n",
    "        \n",
    "        points: mxn matrix, where n is dimensionality of space and m is\n",
    "                number of points\n",
    "        \n",
    "        distance: [euclidean], is distance metric to use. Only euclidean\n",
    "                  distance supported for now\n",
    "                  \n",
    "        A: mxm symmetric matrix where element [i,j] is distance between \n",
    "           points i and j. \n",
    "        \"\"\"\n",
    "        m = np.shape(points)[0]\n",
    "        A = np.zeros( (m,m) )\n",
    "        for i in range(m):\n",
    "            for j in range(i, m):\n",
    "                A[i,j] = self.Distance( points[i,:], points[j,:], distance=distance )\n",
    "                A[j,i] = A[i,j]\n",
    "        return A\n",
    "    \n",
    "    def MDS(self, A ):\n",
    "        \"\"\"\n",
    "        Classical MDS\n",
    "        \n",
    "        A: nxn matrix. Should be symmetric. Represents distances\n",
    "        \n",
    "        Y: (n, p) configuration matrix where each column is a dimension.\n",
    "           only returns up to p dimensions (positive eigenvalues)\n",
    "        \n",
    "        eval: eigenvalues\n",
    "        \"\"\"\n",
    "        n = len(A)\n",
    "        H = np.eye(n) - np.ones((n,n))/n\n",
    "        B = -H.dot(np.square(A)).dot(H)/2\n",
    "\n",
    "        evals, evecs = np.linalg.eigh(B)\n",
    "\n",
    "        idx = np.argsort(evals)[::-1]\n",
    "        evals = evals[idx]\n",
    "        evecs = evecs[:,idx]\n",
    "\n",
    "        w, = np.where(evals > 0)\n",
    "        L = np.diag(np.sqrt(evals[w]))\n",
    "        V = evecs[:,w]\n",
    "        Y = V.dot(L)\n",
    "\n",
    "        return Y, evals"
   ]
  },
  {
   "cell_type": "markdown",
   "metadata": {},
   "source": [
    "### Transforming the space:\n",
    "\n",
    "Here we will assume that each of the conditions represent a different cateogry. We assume euclidean distance everywhere (no reason to believe this, implies linearity and therefore simplest assumption). \n",
    "\n",
    "We will find a lower dimensional subspace that maximizes the pairwise distance between the different categories. Everything is linear, so classical MDS will be used."
   ]
  },
  {
   "cell_type": "code",
   "execution_count": 178,
   "metadata": {
    "collapsed": false
   },
   "outputs": [],
   "source": [
    "MD = MultiDim()\n",
    "\n",
    "means = []\n",
    "radii = []\n",
    "for d in data:\n",
    "    means.append(MD.Mean(d))\n",
    "    radii.append(MD.Radius(d))\n",
    "\n",
    "means = np.array(means)\n",
    "radii = np.array(radii)\n",
    "distance_matrix = MD.ConstructDistanceMatrix( means )\n",
    "\n",
    "mds_Y, mds_evals = MD.MDS( distance_matrix )"
   ]
  },
  {
   "cell_type": "code",
   "execution_count": 179,
   "metadata": {
    "collapsed": false
   },
   "outputs": [],
   "source": [
    "Y = np.dot(mds_Y.T[:2,:], distance_matrix)"
   ]
  },
  {
   "cell_type": "code",
   "execution_count": 180,
   "metadata": {
    "collapsed": false
   },
   "outputs": [
    {
     "data": {
      "text/plain": [
       "<matplotlib.text.Text at 0x7fe05682a6d0>"
      ]
     },
     "execution_count": 180,
     "metadata": {},
     "output_type": "execute_result"
    },
    {
     "data": {
      "image/png": "[encoded data removed]",
      "text/plain": [
       "<matplotlib.figure.Figure at 0x7fe056292850>"
      ]
     },
     "metadata": {},
     "output_type": "display_data"
    }
   ],
   "source": [
    "fig, ax = plt.subplots()\n",
    "ax.margins(0.05)\n",
    "for i in range(np.shape(Y)[1]):\n",
    "    ax.plot(Y[0,i], Y[1,i], marker='o', linestyle='', ms=12, label=categories[i])\n",
    "    #ax.add_patch(patches.Circle((Y[0,i], Y[1,i]), radii[i]))\n",
    "ax.legend(bbox_to_anchor=(1.3, 1))\n",
    "plt.title(\"MDS\")"
   ]
  },
  {
   "cell_type": "markdown",
   "metadata": {},
   "source": [
    "### TODO:\n",
    "\n",
    "* Find scaling factor to plot radii in MDS space."
   ]
  }
 ],
 "metadata": {
  "kernelspec": {
   "display_name": "Python 2",
   "language": "python",
   "name": "python2"
  },
  "language_info": {
   "codemirror_mode": {
    "name": "ipython",
    "version": 2
   },
   "file_extension": ".py",
   "mimetype": "text/x-python",
   "name": "python",
   "nbconvert_exporter": "python",
   "pygments_lexer": "ipython2",
   "version": "2.7.10"
  }
 },
 "nbformat": 4,
 "nbformat_minor": 0
}
