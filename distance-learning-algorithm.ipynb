{
 "cells": [
  {
   "cell_type": "code",
   "execution_count": 1,
   "metadata": {
    "collapsed": false
   },
   "outputs": [],
   "source": [
    "from scipy.optimize import minimize\n",
    "import numpy as np\n",
    "import matplotlib.pyplot as plt\n",
    "%matplotlib inline\n",
    "class DistanceLearn:\n",
    "    \"\"\"\n",
    "    Distance Learn Algorithm:\n",
    "    \n",
    "    Given a matrix X where the rows are samples and the columns are features and pairwise similarity between samples, \n",
    "    create a new space that preserves pairwise distances between samples in feature space. In this transformed space,\n",
    "    the Euclidean distance between points is proportional to the error between points.\n",
    "    \"\"\"\n",
    "    \n",
    "    def CalcAngle(self, v, u):\n",
    "        return np.arccos( np.dot(v,u)/(np.linalg.norm(v)*np.linalg.norm(u)))\n",
    "    \n",
    "    def RotateVec( self, u, angle ):\n",
    "        R = np.array([[np.cos(angle), -np.sin(angle)], [np.sin(angle), np.cos(angle)]])\n",
    "        if np.shape( u ) != [2,1]:\n",
    "            np.reshape(u, (2,1))\n",
    "        return np.dot(R, u)\n",
    "    \n",
    "    \n",
    "    def InitializeTransformMatrix(self):\n",
    "        \"\"\"\n",
    "        InitializeTransformMatrix:\n",
    "        \n",
    "        Initialize transformation matrix so that angle between vectors (stimuli) function of similarity. This \n",
    "        space is meaningless at this stage - will need to rotate space s.t. transform is invariant to ones vector \n",
    "        \"\"\"\n",
    "        S = np.eye(self.num_samples)\n",
    "        a = (np.pi/2 - self.confusion_matrix[0,1])/2\n",
    "        S[:2,0] = self.RotateVec(S[:2,0], a)\n",
    "        S[:2,1] = self.RotateVec(S[:2,1], -a)\n",
    "        for i in range(2,self.num_samples):\n",
    "            d = []\n",
    "            for j in range(i):\n",
    "                d.append( np.cos(self.confusion_matrix[i,j]) )\n",
    "            np.array(d)\n",
    "            S[:,i] = np.dot( d, np.linalg.pinv(S[:,range(i)]) )\n",
    "            l = np.square(np.linalg.norm(S[:,i]))\n",
    "            if (l <= 1):\n",
    "                S[i,i] = np.sqrt(1 - np.square(np.linalg.norm(S[:,i])))\n",
    "            else:\n",
    "                S[i,i] = -np.sqrt(np.square(np.linalg.norm(S[:,i]))-1)\n",
    "        return S\n",
    "    \n",
    "    def InitializeWeights(self):\n",
    "        return np.random.rand(self.num_samples*self.num_samples)\n",
    "    \n",
    "    def ObjFunc(self, T):\n",
    "        \"\"\"\n",
    "        Define objective function for rotating. Specifically want to rotate such that transform is invariant to \n",
    "        ones vector.\n",
    "        \"\"\"\n",
    "        Ts = []\n",
    "        As = []\n",
    "        for i in range(self.num_features):\n",
    "            Ts.append(T[i*self.num_samples:(i+1)*self.num_samples])\n",
    "            As.append(np.sum(self.A[i,:]))\n",
    "        \n",
    "        As = np.array(As)\n",
    "        o = 0\n",
    "        for t in Ts:\n",
    "            o = o + (0.5*(1-np.dot(t,As))**2)\n",
    "        return o\n",
    "    \n",
    "    def ObjFuncDeriv(self, T):\n",
    "        \"\"\"\n",
    "        Derivative of objective function.\n",
    "        \"\"\"\n",
    "        dfdT = []\n",
    "        Ts = []\n",
    "        As = []\n",
    "        for i in range(self.num_samples):\n",
    "            Ts.append(T[i*self.num_samples:(i+1)*self.num_samples])\n",
    "            As.append(np.sum(self.A[i,:]))\n",
    "        \n",
    "        As = np.array(As)\n",
    "        for i in range(self.num_samples):\n",
    "            for j in range(i*self.num_samples, (i+1)*self.num_samples):\n",
    "                dfdT.append( -(1-np.dot(Ts[i],As)) * (T[j]*As[j%self.num_samples]) )\n",
    "        return np.array(dfdT)\n",
    "    \n",
    "    def GenLambdaCons1(self, Tp, i, epsilon):\n",
    "        \"\"\"\n",
    "        First constraint for objective function: \n",
    "        \n",
    "        rotate s.t. norm of axes of compressed space is fixed.\n",
    "        \"\"\"\n",
    "        return lambda t: -0.5*np.linalg.norm(self.A[:,i] - np.dot(Tp, self.A[:,i]))**2 + epsilon\n",
    "    \n",
    "    def GenLambdaCons2(self, Tp, i, j, epsilon):\n",
    "        \"\"\"\n",
    "        Second constraint for objective function:\n",
    "        \n",
    "        rotate s.t. angle between vectors is fixed (reduces to making sure dot product is identical because\n",
    "        of constraint 1)\n",
    "        \"\"\"\n",
    "        TA1 = np.dot(Tp, self.A[:,i])\n",
    "        TA2 = np.dot(Tp, self.A[:,j])\n",
    "        return lambda t: -0.5*(np.dot(self.A[:,i], self.A[:,j]) - np.dot(TA1, TA2))**2 + epsilon\n",
    "    \n",
    "    def GenConstraints(self, T, epsilon):\n",
    "        \"\"\"\n",
    "        Generate all them constraints\n",
    "        \"\"\"\n",
    "        Tp = np.reshape(T, (self.num_samples, self.num_samples) )\n",
    "        C = []\n",
    "        for i in range(self.num_samples):\n",
    "            C.append(self.GenLambdaCons1(Tp, i,epsilon))\n",
    "        \n",
    "        for i in range(self.num_samples):\n",
    "            for j in range(i, self.num_samples):\n",
    "                C.append(self.GenLambdaCons2(Tp, i, j, epsilon))\n",
    "                \n",
    "        cons=[]\n",
    "        for c in C:\n",
    "            cons.append({'type': 'ineq',\n",
    "                         'fun' : c})\n",
    "        return cons\n",
    "        \n",
    "    def GetTransformMatrix(self):\n",
    "        return self.transform_matrix\n",
    "    \n",
    "    def RLearn(self, X, confusion_matrix, epsilon=0):\n",
    "        \"\"\"\n",
    "        RLearn:\n",
    "        \n",
    "        Transforms a matrix of samples and features such that samples that are similar to each other are closer \n",
    "        together, while samples that are different are further from each other. This is a transformation of the \n",
    "        feature space in which the stimuli exist.\n",
    "        \n",
    "        Input:\n",
    "        X: (num_samples X num_features), a matrix where the columns are the features and the rows are samples\n",
    "        confusion_matrix: (num_samples X num_samples), a similarity matrix where the (i,j)th entry is the similarity between samples i and j\n",
    "        epsilon: [default 0], a tradeoff parameter. Larger epsilon means preserving angle is more important, smaller epsilon means invariance to ones vector most important\n",
    "\n",
    "        \"\"\"\n",
    "        self.confusion_matrix = confusion_matrix\n",
    "        self.epsilon = epsilon\n",
    "        self.F = X.T\n",
    "        self.X = X\n",
    "        self.num_features = np.shape(self.F)[0]\n",
    "        self.num_samples = np.shape(self.X)[0]\n",
    "        self.A = self.InitializeTransformMatrix()\n",
    "        self.T = self.InitializeWeights()\n",
    "        self.constraints = self.GenConstraints( self.T, self.epsilon )\n",
    "        self.res = minimize(self.ObjFunc, self.T, jac=self.ObjFuncDeriv, \n",
    "                            constraints=self.constraints, method='SLSQP', options={'disp':True} )\n",
    "        self.T = np.reshape(self.res.x, (self.num_samples, self.num_samples))\n",
    "        self.transform_matrix = np.dot(self.T,self.A)\n",
    "        \n",
    "        self.transformed_X = np.dot(self.transform_matrix, self.X)\n",
    "        self.transformed_F = self.transformed_X.T\n",
    "        \n",
    "        print(np.dot(self.transform_matrix, np.ones(self.num_samples)))\n",
    "        print(self.transformed_F)\n",
    "\n",
    "        return self.transformed_X\n",
    "              \n",
    "        "
   ]
  },
  {
   "cell_type": "code",
   "execution_count": 2,
   "metadata": {
    "collapsed": true
   },
   "outputs": [],
   "source": [
    "dl = DistanceLearn()"
   ]
  },
  {
   "cell_type": "code",
   "execution_count": 3,
   "metadata": {
    "collapsed": false
   },
   "outputs": [
    {
     "name": "stdout",
     "output_type": "stream",
     "text": [
      "Optimization terminated successfully.    (Exit mode 0)\n",
      "            Current function value: 7.87427901866e-10\n",
      "            Iterations: 11\n",
      "            Function evaluations: 7\n",
      "            Gradient evaluations: 7\n",
      "[ 1.00003867  1.00000891]\n",
      "[[ 0.22979382  0.23140716]\n",
      " [ 0.84046264  0.83719726]]\n"
     ]
    }
   ],
   "source": [
    "C = np.array([[.3, .2],\n",
    "              [.7, .9]])\n",
    "confusion_matrix = np.array([[ 0, 1],\n",
    "                             [ 1, 0]])\n",
    "C_transformed = dl.RLearn(C.T, confusion_matrix, epsilon=0).T\n"
   ]
  },
  {
   "cell_type": "code",
   "execution_count": 4,
   "metadata": {
    "collapsed": false
   },
   "outputs": [],
   "source": [
    "def PlotVec( v, show=False, c='k' ):\n",
    "    plt.plot([0, v[0]], [0, v[1]], color=c)\n",
    "    if show:\n",
    "        plt.show()\n"
   ]
  },
  {
   "cell_type": "code",
   "execution_count": 5,
   "metadata": {
    "collapsed": false
   },
   "outputs": [
    {
     "data": {
      "text/plain": [
       "<matplotlib.text.Text at 0x7ff210655b50>"
      ]
     },
     "execution_count": 5,
     "metadata": {},
     "output_type": "execute_result"
    },
    {
     "data": {
      "image/png": "[encoded data removed]",
      "text/plain": [
       "<matplotlib.figure.Figure at 0x7ff1ee51e150>"
      ]
     },
     "metadata": {},
     "output_type": "display_data"
    }
   ],
   "source": [
    "PlotVec(C.T[:,0],c='r')\n",
    "PlotVec(C.T[:,1],c='r')\n",
    "\n",
    "PlotVec(C_transformed.T[:,0],c='b')\n",
    "PlotVec(C_transformed.T[:,0],c='b')\n",
    "plt.xlim([0,1])\n",
    "plt.ylim([0,1])\n",
    "plt.title(\"Demo: Red orig, Blue Adjusted\")"
   ]
  }
 ],
 "metadata": {
  "kernelspec": {
   "display_name": "Python 2",
   "language": "python",
   "name": "python2"
  },
  "language_info": {
   "codemirror_mode": {
    "name": "ipython",
    "version": 2
   },
   "file_extension": ".py",
   "mimetype": "text/x-python",
   "name": "python",
   "nbconvert_exporter": "python",
   "pygments_lexer": "ipython2",
   "version": "2.7.10"
  }
 },
 "nbformat": 4,
 "nbformat_minor": 0
}
