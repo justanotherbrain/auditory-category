{
 "cells": [
  {
   "cell_type": "code",
   "execution_count": 1,
   "metadata": {
    "collapsed": true
   },
   "outputs": [],
   "source": [
    "import numpy as np\n",
    "import matplotlib.pyplot as plt\n",
    "%matplotlib inline"
   ]
  },
  {
   "cell_type": "code",
   "execution_count": 2,
   "metadata": {
    "collapsed": true
   },
   "outputs": [],
   "source": [
    "# Visualization\n",
    "\n",
    "def RotateVec( u, angle ):\n",
    "    R = np.array([[np.cos(angle), -np.sin(angle)], [np.sin(angle), np.cos(angle)]])\n",
    "    if np.shape( u ) != [2,1]:\n",
    "        np.reshape(u, (2,1))\n",
    "    return np.dot(R, u)\n",
    "    \n",
    "def PlotVec( v, show=False, c='k' ):\n",
    "    plt.plot([0, v[0]], [0, v[1]], color=c)\n",
    "    if show:\n",
    "        plt.show()\n"
   ]
  },
  {
   "cell_type": "code",
   "execution_count": 3,
   "metadata": {
    "collapsed": false
   },
   "outputs": [],
   "source": [
    "class DistanceLearn:\n",
    "    class Visualization:\n",
    "        def RotateVec(self, u, angle ):\n",
    "            R = np.array([[np.sin(angle), -np.cos(angle)], [np.cos(angle), np.sin(angle)]])\n",
    "            if np.shape( u ) != [2,1]:\n",
    "                np.reshape(u, (2,1))\n",
    "            return np.dot(R, u)\n",
    "    \n",
    "        def PlotVec(self, v, ax=\"none\", show=False ):\n",
    "            if isinstance(ax, basestring):\n",
    "                plt.plot([0, v[0]], [0, v[1]], 'k')\n",
    "                plt.xlim([0,1])\n",
    "                plt.ylim([0,1])\n",
    "                if show:\n",
    "                    plt.show()\n",
    "            else:\n",
    "                ax.plot([0, v[0]], [0, v[1]], 'k')\n",
    "                ax.set_xlim([0,1])\n",
    "                ax.set_ylim([0,1])\n",
    "\n",
    "    \n",
    "    def Stim2Cell(self, S ):\n",
    "        \"\"\"\n",
    "        Input\n",
    "        S :  Stimulus vectors (each col is a stimulus)\n",
    "        \n",
    "        Return\n",
    "        C :  Cell vectors (each col is a cell)\n",
    "        \"\"\"\n",
    "        \n",
    "        self.n_stim = np.shape(S)[1]\n",
    "        self.n_cell = np.shape(S)[0]\n",
    "        \"\"\"\n",
    "        S_flat = S.flatten(order='F')\n",
    "        S_flat = np.reshape( S_flat, (len(S_flat), 1) )\n",
    "        C = []\n",
    "        for i in range(self.n_cell):\n",
    "            m = np.zeros( (self.n_cell, len(S_flat)) )\n",
    "            for j in range(self.n_stim):\n",
    "                m[j, i + j*self.n_cell] = 1\n",
    "            c = np.dot(m, S_flat)\n",
    "            C.append(c)\n",
    "        C = np.array(C)[:,:,0].T\n",
    "        \"\"\"\n",
    "        return S.T\n",
    "    \n",
    "    def Cell2Stim( self, C ):\n",
    "        return C.T\n",
    "    \n",
    "    def GenerateRotationMatrix( self, angle ):\n",
    "        R = np.array([[np.cos(angle), -np.sin(angle)], [np.sin(angle), np.cos(angle)]])\n",
    "        return R\n",
    "    \n",
    "    def AdjustCells(self, C, D ):\n",
    "        \"\"\"\n",
    "        Input:\n",
    "        C :  Cell vectors (each col is a cell)\n",
    "        D :  Distance matrix\n",
    "        \n",
    "        Return:\n",
    "        C_p:  Adjusted cell vectors\n",
    "        \"\"\"\n",
    "        self.n_cell = np.shape(C)[1]\n",
    "        self.n_stim = np.shape(C)[0]\n",
    "        C_p = np.zeros((np.shape(C)))\n",
    "        for i in range(self.n_stim):\n",
    "            for j in range(i,self.n_stim):\n",
    "                if (i == j):\n",
    "                    continue\n",
    "                for k in range(self.n_cell):\n",
    "                    theta = np.arccos( D[i,j] )\n",
    "                    phi = np.arccos( C[i,k]/np.linalg.norm(C[:,k]) )\n",
    "                    phi_p = (2 * theta * phi)/np.pi\n",
    "                    alpha = ((np.pi/2) - theta)/2\n",
    "                    var_phi = phi_p + alpha\n",
    "                    delta =  var_phi - phi\n",
    "                    R = self.GenerateRotationMatrix( delta )\n",
    "                    C_p[:,k] = np.dot(R, C[:,k])\n",
    "        return C_p\n",
    "        \n",
    "        \n",
    "    def GeneralAdjustCells( self, C, D ):\n",
    "        self.n_cell = np.shape(C)[1]\n",
    "        self.n_stim = np.shape(C)[0]\n",
    "        C_p = np.zeros((np.shape(C)))\n",
    "        for i in range(self.n_stim):\n",
    "            for j in range(i, self.n_stim):\n",
    "                if (i==j):\n",
    "                    continue\n",
    "                for k in range(self.n_cell):\n",
    "                    #TODO\n",
    "                    continue\n",
    "    \n",
    "    def AdjustStim( self, S, D, vis=False ):\n",
    "        C = self.Stim2Cell( S )\n",
    "        C_p = self.AdjustCells( C, D )\n",
    "        S_p = self.Cell2Stim( C_p )\n",
    "        \n",
    "        if vis:\n",
    "            V = self.Visualization()\n",
    "            f, (ax1, ax2) = plt.subplots(1, 2, sharey=True)\n",
    "            plt.title(\"cell space\")\n",
    "            for i in range(self.n_stim):\n",
    "                V.PlotVec(S[:,i], ax=ax1 )\n",
    "                V.PlotVec(S_p[:,i], ax=ax2)\n",
    "        return S_p\n",
    "\n",
    "        \n",
    "    \n",
    "    "
   ]
  },
  {
   "cell_type": "code",
   "execution_count": 4,
   "metadata": {
    "collapsed": false
   },
   "outputs": [
    {
     "name": "stdout",
     "output_type": "stream",
     "text": [
      "[[ 0.45229121  0.66740742]\n",
      " [ 0.58402422  0.43464434]]\n",
      "[ 0.32482955  0.69391005]\n"
     ]
    },
    {
     "data": {
      "image/png": "[encoded data removed]",
      "text/plain": [
       "<matplotlib.figure.Figure at 0x10e6cf450>"
      ]
     },
     "metadata": {},
     "output_type": "display_data"
    }
   ],
   "source": [
    "# 2 stimuli, 2 cells\n",
    "dl = DistanceLearn()\n",
    "S = np.array([[.1,.8],\n",
    "              [.7, .2]])\n",
    "D = np.ones((2,2)) * .9\n",
    "S_p=dl.AdjustStim(S, D, vis=True)\n",
    "print(S_p)\n",
    "\n",
    "a = (np.pi/2 - .9)/2\n",
    "A = np.eye(2)\n",
    "A[:,0] = RotateVec(A[:,0], a)\n",
    "A[:,1] = RotateVec(A[:,1], -a)\n",
    "\n",
    "print(np.dot(A.T,S[:,0]))"
   ]
  },
  {
   "cell_type": "code",
   "execution_count": 5,
   "metadata": {
    "collapsed": false
   },
   "outputs": [
    {
     "name": "stdout",
     "output_type": "stream",
     "text": [
      "[[ 0.52580214  0.67344792]]\n"
     ]
    }
   ],
   "source": [
    "# 2 stimuli, 1 cell\n",
    "dl = DistanceLearn()\n",
    "S = np.array([[.3,.8]])\n",
    "D = np.ones((2,2)) * .9\n",
    "S_p=dl.AdjustStim(S, D, vis=False)\n",
    "\n",
    "\n",
    "\n",
    "print(S_p)"
   ]
  },
  {
   "cell_type": "code",
   "execution_count": 6,
   "metadata": {
    "collapsed": false
   },
   "outputs": [
    {
     "data": {
      "image/png": "[encoded data removed]",
      "text/plain": [
       "<matplotlib.figure.Figure at 0x10e6dba10>"
      ]
     },
     "metadata": {},
     "output_type": "display_data"
    }
   ],
   "source": [
    "# 2 stimuli, 3 cell\n",
    "dl = DistanceLearn()\n",
    "S = np.array([[.3,.8],\n",
    "              [.4, .1],\n",
    "              [.9, .2]])\n",
    "D = np.ones((3,3)) * .9\n",
    "S_p=dl.AdjustStim(S, D, vis=True)"
   ]
  },
  {
   "cell_type": "code",
   "execution_count": 7,
   "metadata": {
    "collapsed": false
   },
   "outputs": [
    {
     "name": "stdout",
     "output_type": "stream",
     "text": [
      "orig\n",
      "[[ 0.2  0.4]\n",
      " [ 0.1  0.8]\n",
      " [ 0.5  0.1]]\n",
      "\n",
      " change 1,2\n",
      "[[ 0.19337356  0.44911765]\n",
      " [ 0.11227941  0.77349424]\n",
      " [ 0.5         0.1       ]]\n",
      "\n",
      " change 1,3\n",
      "[[ 0.29134819  0.40409021]\n",
      " [ 0.11227941  0.77349424]\n",
      " [ 0.45001063  0.22004037]]\n",
      "\n",
      " change 2,3\n",
      "[[ 0.29134819  0.40409021]\n",
      " [ 0.24786508  0.67390602]\n",
      " [ 0.39201931  0.43881862]]\n"
     ]
    },
    {
     "data": {
      "image/png": "[encoded data removed]",
      "text/plain": [
       "<matplotlib.figure.Figure at 0x10cbd3e90>"
      ]
     },
     "metadata": {},
     "output_type": "display_data"
    }
   ],
   "source": [
    "S = np.array([[.2, .1, .5],\n",
    "              [.4, .8, .1]])\n",
    "C = S.T\n",
    "print(\"orig\")\n",
    "print(C)\n",
    "\n",
    "C_p = dl.AdjustCells( C[[0,1],:], np.reshape( np.array([0,.3]), (1,2) ) )\n",
    "PlotVec(C_p[[0,1],0])\n",
    "PlotVec(C_p[[0,1],1])\n",
    "C_n = C.copy()\n",
    "C_n[[0,1],:] = C_p\n",
    "print(\"\\n change 1,2\")\n",
    "print(C_n)\n",
    "\n",
    "C_p = dl.AdjustCells( C_n[[0,2],:], np.reshape( np.array([0,.7]), (1,2) ) )\n",
    "PlotVec(C_p[[0,1],0],c='r')\n",
    "PlotVec(C_p[[0,1],1],c='r')\n",
    "C_n[[0,2],:] = C_p\n",
    "print(\"\\n change 1,3\")\n",
    "print(C_n)\n",
    "\n",
    "C_p = dl.AdjustCells( C_n[[1,2],:], np.reshape( np.array([0,.8]), (1,2) ) )\n",
    "PlotVec(C_p[[0,1],0],c='b')\n",
    "PlotVec(C_p[[0,1],1],c='b')\n",
    "C_n[[1,2],:] = C_p\n",
    "print(\"\\n change 2,3\")\n",
    "print(C_n)\n"
   ]
  },
  {
   "cell_type": "code",
   "execution_count": 8,
   "metadata": {
    "collapsed": false
   },
   "outputs": [
    {
     "name": "stdout",
     "output_type": "stream",
     "text": [
      "orig\n",
      "[[ 0.2  0.4]\n",
      " [ 0.1  0.8]\n",
      " [ 0.5  0.1]]\n",
      "\n",
      " change 1,2\n",
      "[[ 0.19337356  0.44911765]\n",
      " [ 0.11227941  0.77349424]\n",
      " [ 0.5         0.1       ]]\n"
     ]
    },
    {
     "data": {
      "image/png": "[encoded data removed]",
      "text/plain": [
       "<matplotlib.figure.Figure at 0x10e774cd0>"
      ]
     },
     "metadata": {},
     "output_type": "display_data"
    }
   ],
   "source": [
    "S = np.array([[.2, .1, .5],\n",
    "              [.4, .8, .1]])\n",
    "C = S.T\n",
    "print(\"orig\")\n",
    "print(C)\n",
    "\n",
    "C_p = dl.AdjustCells( C[[0,1],:], np.reshape( np.array([0,.3]), (1,2) ) )\n",
    "PlotVec(C_p[[0,1],0])\n",
    "PlotVec(C_p[[0,1],1])\n",
    "C_n = C.copy()\n",
    "C_n[[0,1],:] = C_p\n",
    "print(\"\\n change 1,2\")\n",
    "print(C_n)\n",
    "\n"
   ]
  },
  {
   "cell_type": "code",
   "execution_count": 9,
   "metadata": {
    "collapsed": false
   },
   "outputs": [
    {
     "name": "stdout",
     "output_type": "stream",
     "text": [
      "[[ 0.80483545  0.59349802  0.68380453]\n",
      " [ 0.59349802  0.80483545  0.36140316]\n",
      " [ 0.          0.          0.63387627]]\n",
      "0.3\n",
      "0.8\n",
      "0.7\n"
     ]
    }
   ],
   "source": [
    "S = np.eye(3)\n",
    "\n",
    "d12 = .3\n",
    "d23 = .8\n",
    "d13 = .7\n",
    "\n",
    "\n",
    "a = (np.pi/2 - d12)/2\n",
    "\n",
    "S[:2,0] = RotateVec(S[:2,0], a)\n",
    "S[:2,1] = RotateVec(S[:2,1], -a)\n",
    "\n",
    "R = np.array([[np.cos(a), -np.sin(a), 0],\n",
    "              [np.sin(a), np.cos(a), 0],\n",
    "              [0, 0, 1]])\n",
    "\n",
    "\n",
    "#test = np.dot(np.array([[np.cos(d13), np.cos(d23)]]), np.linalg.inv(S[[0,1],:2]))\n",
    "#S[:2,2] = test\n",
    "\n",
    "test = np.dot(np.array([[np.cos(d13), np.cos(d23)]]), np.linalg.pinv(S[:,[0,1]]))\n",
    "S[:,2] = test\n",
    "S[2,2] = np.sqrt(1 - np.square(np.linalg.norm(S[:,2])) )\n",
    "#S[2,2] = 1 - np.linalg.norm(S[:2,2])\n",
    "\n",
    "print(S)\n",
    "print(np.arccos(np.dot(S[:,0],S[:,1])))\n",
    "print(np.arccos(np.dot(S[:,1],S[:,2])))\n",
    "print(np.arccos(np.dot(S[:,0],S[:,2])))\n"
   ]
  },
  {
   "cell_type": "code",
   "execution_count": 10,
   "metadata": {
    "collapsed": false
   },
   "outputs": [],
   "source": [
    "from scipy.optimize import minimize"
   ]
  },
  {
   "cell_type": "code",
   "execution_count": 11,
   "metadata": {
    "collapsed": false
   },
   "outputs": [
    {
     "data": {
      "text/plain": [
       "\"\\ndef func(T, A, sign=1.0):\\n    l = len(T)\\n    N = int(np.sqrt(l))\\n    T = np.reshape(T, (N,N))\\n    o = np.ones(N)\\n    TA = np.dot(T,A)\\n    return sign * .5 * np.square( np.linalg.norm( o - np.dot( TA, o ) ) )\\n\\ndef func_deriv(T, A, sign=1.0):\\n    l = len(T)\\n    N = int(np.sqrt(l))\\n    T = np.reshape(T, (N,N))\\n    dfdT=[]\\n    o = np.ones(N)\\n    TA = np.dot(T,A)\\n    for j in range(N):\\n        Tj = T[:,j]\\n        Atj = A.T[:,j]\\n        d = -sign*(o - np.dot(TA, o)) * np.dot(Tj, Atj) \\n        dfdT.append( d )\\n    return np.reshape(np.array(dfdT), l)\\n\\ndef MakeConstraints( N ):\\n    cons = []\\n    for i in range(N):\\n        c1 = {\\n            'type' : 'eq',\\n            'fun' : lambda T: .5* np.square(np.linalg.norm(A[i])) - .5 * np.square(np.linalg.norm(np.dot(T[i], A.T[i])) ),\\n            'jac' : lambda T: np.dot(T[i], A.T[i]) * T[i]\\n        }\\n        cons.append(c1)\\n        for j in range(N):\\n            c2 = {\\n                'type' : 'eq',\\n                'fun' : lambda T: np.dot(A[i], A[j]) - np.dot( np.dot(T[i], A.T[i]), np.dot(T[j], A.T[j]) ),\\n                'jac' : lambda T: np.array( [-np.dot(A.T[i], np.dot(T[j], A.T[j])), -np.dot(np.dot(T[i], A.T[i]), A.T[j]) ])\\n            }\\n            cons.append(c2)\\n    return cons\\n\\nN = len(S)\\nT = np.random.rand(N,N)\\ncons = MakeConstraints(N)\\nA = np.copy(S)\\n\\nres = minimize(func, T, args = (S,-1.0,), jac= func_deriv, method='BFGS', options={'disp':True})\\n\""
      ]
     },
     "execution_count": 11,
     "metadata": {},
     "output_type": "execute_result"
    }
   ],
   "source": [
    "# this doesn't work...\n",
    "\"\"\"\n",
    "def func(T, A, sign=1.0):\n",
    "    l = len(T)\n",
    "    N = int(np.sqrt(l))\n",
    "    T = np.reshape(T, (N,N))\n",
    "    o = np.ones(N)\n",
    "    TA = np.dot(T,A)\n",
    "    return sign * .5 * np.square( np.linalg.norm( o - np.dot( TA, o ) ) )\n",
    "\n",
    "def func_deriv(T, A, sign=1.0):\n",
    "    l = len(T)\n",
    "    N = int(np.sqrt(l))\n",
    "    T = np.reshape(T, (N,N))\n",
    "    dfdT=[]\n",
    "    o = np.ones(N)\n",
    "    TA = np.dot(T,A)\n",
    "    for j in range(N):\n",
    "        Tj = T[:,j]\n",
    "        Atj = A.T[:,j]\n",
    "        d = -sign*(o - np.dot(TA, o)) * np.dot(Tj, Atj) \n",
    "        dfdT.append( d )\n",
    "    return np.reshape(np.array(dfdT), l)\n",
    "\n",
    "def MakeConstraints( N ):\n",
    "    cons = []\n",
    "    for i in range(N):\n",
    "        c1 = {\n",
    "            'type' : 'eq',\n",
    "            'fun' : lambda T: .5* np.square(np.linalg.norm(A[i])) - .5 * np.square(np.linalg.norm(np.dot(T[i], A.T[i])) ),\n",
    "            'jac' : lambda T: np.dot(T[i], A.T[i]) * T[i]\n",
    "        }\n",
    "        cons.append(c1)\n",
    "        for j in range(N):\n",
    "            c2 = {\n",
    "                'type' : 'eq',\n",
    "                'fun' : lambda T: np.dot(A[i], A[j]) - np.dot( np.dot(T[i], A.T[i]), np.dot(T[j], A.T[j]) ),\n",
    "                'jac' : lambda T: np.array( [-np.dot(A.T[i], np.dot(T[j], A.T[j])), -np.dot(np.dot(T[i], A.T[i]), A.T[j]) ])\n",
    "            }\n",
    "            cons.append(c2)\n",
    "    return cons\n",
    "\n",
    "N = len(S)\n",
    "T = np.random.rand(N,N)\n",
    "cons = MakeConstraints(N)\n",
    "A = np.copy(S)\n",
    "\n",
    "res = minimize(func, T, args = (S,-1.0,), jac= func_deriv, method='BFGS', options={'disp':True})\n",
    "\"\"\""
   ]
  },
  {
   "cell_type": "code",
   "execution_count": 47,
   "metadata": {
    "collapsed": false
   },
   "outputs": [],
   "source": [
    "def func(T, A):\n",
    "    T0 = T[0:3]\n",
    "    T1 = T[3:6]\n",
    "    T2 = T[6:9]\n",
    "    A0 = np.sum(A[0,:])\n",
    "    A1 = np.sum(A[1,:])\n",
    "    A2 = np.sum(A[2,:])\n",
    "    Ap = np.array([A0, A1, A2])\n",
    "    return (.5*(1-np.dot(T0,Ap))**2 + .5*(1-np.dot(T1,Ap))**2 + .5*(1-np.dot(T2,Ap))**2)\n",
    "\n",
    "def func_deriv(T, A, sign=1.0):\n",
    "    dfdT = []\n",
    "    T0 = T[0:3]\n",
    "    T1 = T[3:6]\n",
    "    T2 = T[6:9]\n",
    "    A0 = np.sum(A[0,:])\n",
    "    A1 = np.sum(A[1,:])\n",
    "    A2 = np.sum(A[2,:])\n",
    "    Ap = np.array([A0, A1, A2])\n",
    "    for i in range(0,3):\n",
    "        dfdT.append( -(1-np.dot(T0,Ap))*(T[i]*Ap[i%3]) )\n",
    "    for i in range(3,6):\n",
    "        dfdT.append( -(1-np.dot(T1,Ap))*(T[i]*Ap[i%3]) )\n",
    "    for i in range(6,9):\n",
    "        dfdT.append( -(1-np.dot(T2,Ap))*(T[i]*Ap[i%3]) )\n",
    "    return np.array(dfdT)\n",
    "\n",
    "def cA0(T, epsilon=0):\n",
    "    Tp = np.reshape(T,(3,3))\n",
    "    return -.5*np.linalg.norm(A[:,0] - np.dot(Tp, A[:,0]))**2 + epsilon\n",
    "\n",
    "def cA1(T, epsilon=0):\n",
    "    Tp = np.reshape(T,(3,3))\n",
    "    return -.5*np.linalg.norm(A[:,1] - np.dot(Tp, A[:,1]))**2 + epsilon\n",
    "\n",
    "def cA2(T, epsilon=0):\n",
    "    Tp = np.reshape(T,(3,3))\n",
    "    return -.5*np.linalg.norm(A[:,2] - np.dot(Tp, A[:,2]))**2 + epsilon\n",
    "\n",
    "def c01(T, epsilon=0):\n",
    "    Tp = np.reshape(T,(3,3))\n",
    "    TA0 = np.dot(Tp, A[:,0])\n",
    "    TA1 = np.dot(Tp, A[:,1])\n",
    "    return -.5 * (np.dot(A[:,0], A[:,1]) - np.dot(TA0, TA1))**2 + epsilon\n",
    "\n",
    "def c02(T, epsilon=0):\n",
    "    Tp = np.reshape(T,(3,3))\n",
    "    TA0 = np.dot(Tp, A[:,0])\n",
    "    TA2 = np.dot(Tp, A[:,2])\n",
    "    return -.5 * (np.dot(A[:,0], A[:,2]) - np.dot(TA0, TA2))**2 + epsilon\n",
    "\n",
    "def c12(T, epsilon=0):\n",
    "    Tp = np.reshape(T,(3,3))\n",
    "    TA1 = np.dot(Tp, A[:,1])\n",
    "    TA2 = np.dot(Tp, A[:,2])\n",
    "    return -.5 * (np.dot(A[:,1], A[:,2]) - np.dot(TA1, TA2))**2 + epsilon\n",
    "   \n",
    "\n",
    "def RunOptim(A, e=0):\n",
    "    cons =({'type': 'ineq',\n",
    "       'fun' : cA0,\n",
    "       'args' : (e,)},\n",
    "       {'type': 'ineq',\n",
    "       'fun' : cA1,\n",
    "       'args' : (e,)},\n",
    "       {'type': 'ineq',\n",
    "       'fun' : cA2,\n",
    "       'args' : (e,)},\n",
    "       {'type': 'ineq',\n",
    "       'fun' : c01,\n",
    "       'args' : (e,)},\n",
    "       {'type': 'ineq',\n",
    "       'fun' : c02,\n",
    "       'args' : (e,)},\n",
    "       {'type': 'ineq',\n",
    "       'fun' : c12,\n",
    "       'args' : (e,)})\n",
    "\n",
    "    T = np.random.rand(9)\n",
    "    res = minimize(func, T, args = (A,), jac=func_deriv, constraints=cons, \n",
    "               method='SLSQP', options={'disp':True} )\n",
    "    Tp = np.reshape(res.x, (3,3))\n",
    "    Rot = np.dot(Tp,A)\n",
    "    print(Tp)\n",
    "    return Tp,Rot"
   ]
  },
  {
   "cell_type": "code",
   "execution_count": null,
   "metadata": {
    "collapsed": true
   },
   "outputs": [],
   "source": [
    "def CalcAngle(v, u):\n",
    "    return np.arccos( np.dot(v,u)/(np.linalg.norm(v)*np.linalg.norm(u)))"
   ]
  },
  {
   "cell_type": "code",
   "execution_count": 79,
   "metadata": {
    "collapsed": false
   },
   "outputs": [
    {
     "name": "stdout",
     "output_type": "stream",
     "text": [
      "Optimization terminated successfully.    (Exit mode 0)\n",
      "            Current function value: 3.45810926421e-07\n",
      "            Iterations: 8\n",
      "            Function evaluations: 10\n",
      "            Gradient evaluations: 8\n",
      "[[ 0.11066453  0.23857212  0.55110904]\n",
      " [ 0.19972358  0.27139504  0.16908109]\n",
      " [ 0.33809172  0.13313215  0.09685921]]\n"
     ]
    }
   ],
   "source": [
    "A = np.copy(S)\n",
    "Tp,tmp = RunOptim(A,e=10)"
   ]
  },
  {
   "cell_type": "code",
   "execution_count": 80,
   "metadata": {
    "collapsed": false
   },
   "outputs": [
    {
     "name": "stdout",
     "output_type": "stream",
     "text": [
      "[[ 0.80483545  0.59349802  0.68380453]\n",
      " [ 0.59349802  0.80483545  0.36140316]\n",
      " [ 0.          0.          0.63387627]]\n",
      "17.1887338539\n",
      "45.8366236105\n",
      "40.1070456592\n",
      "[ 119.29771969  100.82548194   36.31843472]\n",
      "[[ 0.23065882  0.25769048  0.51122857]\n",
      " [ 0.32181704  0.3369639   0.34183141]\n",
      " [ 0.35112187  0.30780624  0.34069978]]\n",
      "5.76994339665\n",
      "17.3076348543\n",
      "20.9100399552\n",
      "[ 0.99957787  1.00061234  0.99962789]\n"
     ]
    }
   ],
   "source": [
    "print(S)\n",
    "print(np.rad2deg(np.arccos(np.dot(S[:,0],S[:,1]))))\n",
    "print(np.rad2deg(np.arccos(np.dot(S[:,1],S[:,2]))))\n",
    "print(np.rad2deg(np.arccos(np.dot(S[:,0],S[:,2]))))\n",
    "print(np.rad2deg(np.dot(S, np.ones(3))))\n",
    "\n",
    "print(tmp)\n",
    "print(np.rad2deg(CalcAngle(tmp[:,0],tmp[:,1])))\n",
    "print(np.rad2deg(CalcAngle(tmp[:,1],tmp[:,2])))\n",
    "print(np.rad2deg(CalcAngle(tmp[:,0],tmp[:,2])))\n",
    "\n",
    "print(np.dot(tmp, np.ones(3)))"
   ]
  },
  {
   "cell_type": "code",
   "execution_count": 1,
   "metadata": {
    "collapsed": false
   },
   "outputs": [],
   "source": [
    "from scipy.optimize import minimize\n",
    "import numpy as np\n",
    "class DistanceLearn:\n",
    "    \"\"\"\n",
    "    Distance Learn Algorithm:\n",
    "    \n",
    "    Given a matrix X where the rows are samples and the columns are features and pairwise similarity between samples, \n",
    "    create a new space that preserves pairwise distances between samples in feature space. In this transformed space,\n",
    "    the Euclidean distance between points is proportional to the error between points.\n",
    "    \"\"\"\n",
    "    \n",
    "    def CalcAngle(self, v, u):\n",
    "        return np.arccos( np.dot(v,u)/(np.linalg.norm(v)*np.linalg.norm(u)))\n",
    "    \n",
    "    def RotateVec( self, u, angle ):\n",
    "        R = np.array([[np.cos(angle), -np.sin(angle)], [np.sin(angle), np.cos(angle)]])\n",
    "        if np.shape( u ) != [2,1]:\n",
    "            np.reshape(u, (2,1))\n",
    "        return np.dot(R, u)\n",
    "    \n",
    "    \n",
    "    def InitializeTransformMatrix(self):\n",
    "        \"\"\"\n",
    "        InitializeTransformMatrix:\n",
    "        \n",
    "        Initialize transformation matrix so that angle between vectors (stimuli) function of similarity. This \n",
    "        space is meaningless at this stage - will need to rotate space s.t. transform is invariant to ones vector \n",
    "        \"\"\"\n",
    "        S = np.eye(self.num_samples)\n",
    "        a = (np.pi/2 - self.confusion_matrix[0,1])/2\n",
    "        S[:2,0] = self.RotateVec(S[:2,0], a)\n",
    "        S[:2,1] = self.RotateVec(S[:2,1], -a)\n",
    "        for i in range(2,self.num_samples):\n",
    "            d = []\n",
    "            for j in range(i):\n",
    "                d.append( np.cos(self.confusion_matrix[i,j]) )\n",
    "            np.array(d)\n",
    "            S[:,i] = np.dot( d, np.linalg.pinv(S[:,range(i)]) )\n",
    "            l = np.square(np.linalg.norm(S[:,i]))\n",
    "            if (l <= 1):\n",
    "                S[i,i] = np.sqrt(1 - np.square(np.linalg.norm(S[:,i])))\n",
    "            else:\n",
    "                S[i,i] = -np.sqrt(np.square(np.linalg.norm(S[:,i]))-1)\n",
    "        return S\n",
    "    \n",
    "    def InitializeWeights(self):\n",
    "        return np.random.rand(self.num_samples*self.num_samples)\n",
    "    \n",
    "    def ObjFunc(self, T):\n",
    "        \"\"\"\n",
    "        Define objective function for rotating. Specifically want to rotate such that transform is invariant to \n",
    "        ones vector.\n",
    "        \"\"\"\n",
    "        Ts = []\n",
    "        As = []\n",
    "        for i in range(self.num_features):\n",
    "            Ts.append(T[i*self.num_samples:(i+1)*self.num_samples])\n",
    "            As.append(np.sum(self.A[i,:]))\n",
    "        \n",
    "        As = np.array(As)\n",
    "        o = 0\n",
    "        for t in Ts:\n",
    "            o = o + (0.5*(1-np.dot(t,As))**2)\n",
    "        return o\n",
    "    \n",
    "    def ObjFuncDeriv(self, T):\n",
    "        \"\"\"\n",
    "        Derivative of objective function.\n",
    "        \"\"\"\n",
    "        dfdT = []\n",
    "        Ts = []\n",
    "        As = []\n",
    "        for i in range(self.num_samples):\n",
    "            Ts.append(T[i*self.num_samples:(i+1)*self.num_samples])\n",
    "            As.append(np.sum(self.A[i,:]))\n",
    "        \n",
    "        As = np.array(As)\n",
    "        for i in range(self.num_samples):\n",
    "            for j in range(i*self.num_samples, (i+1)*self.num_samples):\n",
    "                dfdT.append( -(1-np.dot(Ts[i],As)) * (T[j]*As[j%self.num_samples]) )\n",
    "        return np.array(dfdT)\n",
    "    \n",
    "    def GenLambdaCons1(self, Tp, i, epsilon):\n",
    "        \"\"\"\n",
    "        First constraint for objective function: \n",
    "        \n",
    "        rotate s.t. norm of axes of compressed space is fixed.\n",
    "        \"\"\"\n",
    "        return lambda t: -0.5*np.linalg.norm(self.A[:,i] - np.dot(Tp, self.A[:,i]))**2 + epsilon\n",
    "    \n",
    "    def GenLambdaCons2(self, Tp, i, j, epsilon):\n",
    "        \"\"\"\n",
    "        Second constraint for objective function:\n",
    "        \n",
    "        rotate s.t. angle between vectors is fixed (reduces to making sure dot product is identical because\n",
    "        of constraint 1)\n",
    "        \"\"\"\n",
    "        TA1 = np.dot(Tp, self.A[:,i])\n",
    "        TA2 = np.dot(Tp, self.A[:,j])\n",
    "        return lambda t: -0.5*(np.dot(self.A[:,i], self.A[:,j]) - np.dot(TA1, TA2))**2 + epsilon\n",
    "    \n",
    "    def GenConstraints(self, T, epsilon):\n",
    "        \"\"\"\n",
    "        Generate all them constraints\n",
    "        \"\"\"\n",
    "        Tp = np.reshape(T, (self.num_samples, self.num_samples) )\n",
    "        C = []\n",
    "        for i in range(self.num_samples):\n",
    "            C.append(self.GenLambdaCons1(Tp, i,epsilon))\n",
    "        \n",
    "        for i in range(self.num_samples):\n",
    "            for j in range(i, self.num_samples):\n",
    "                C.append(self.GenLambdaCons2(Tp, i, j, epsilon))\n",
    "                \n",
    "        cons=[]\n",
    "        for c in C:\n",
    "            cons.append({'type': 'ineq',\n",
    "                         'fun' : c})\n",
    "        return cons\n",
    "        \n",
    "    def GetTransformMatrix(self):\n",
    "        return self.transform_matrix\n",
    "    \n",
    "    def RLearn(self, X, confusion_matrix, epsilon=0):\n",
    "        \"\"\"\n",
    "        RLearn:\n",
    "        \n",
    "        Transforms a matrix of samples and features such that samples that are similar to each other are closer \n",
    "        together, while samples that are different are further from each other. This is a transformation of the \n",
    "        feature space in which the stimuli exist.\n",
    "        \n",
    "        Input:\n",
    "        X: (num_samples X num_features), a matrix where the columns are the features and the rows are samples\n",
    "        confusion_matrix: (num_samples X num_samples), a similarity matrix where the (i,j)th entry is the similarity between samples i and j\n",
    "        epsilon: [default 0], a tradeoff parameter. Larger epsilon means preserving angle is more important, smaller epsilon means invariance to ones vector most important\n",
    "\n",
    "        \"\"\"\n",
    "        self.confusion_matrix = confusion_matrix\n",
    "        self.epsilon = epsilon\n",
    "        self.F = X.T\n",
    "        self.X = X\n",
    "        self.num_features = np.shape(self.F)[0]\n",
    "        self.num_samples = np.shape(self.X)[0]\n",
    "        self.A = self.InitializeTransformMatrix()\n",
    "        self.T = self.InitializeWeights()\n",
    "        self.constraints = self.GenConstraints( self.T, self.epsilon )\n",
    "        self.res = minimize(self.ObjFunc, self.T, jac=self.ObjFuncDeriv, \n",
    "                            constraints=self.constraints, method='SLSQP', options={'disp':True} )\n",
    "        self.T = np.reshape(self.res.x, (self.num_samples, self.num_samples))\n",
    "        self.transform_matrix = np.dot(self.T,self.A)\n",
    "        \n",
    "        self.transformed_X = np.dot(self.transform_matrix, self.X)\n",
    "        self.transformed_F = self.transformed_X.T\n",
    "        \n",
    "        print(np.dot(self.transform_matrix, np.ones(self.num_samples)))\n",
    "        print(self.transformed_F)\n",
    "\n",
    "        return self.transformed_X\n",
    "              \n",
    "        "
   ]
  },
  {
   "cell_type": "code",
   "execution_count": 2,
   "metadata": {
    "collapsed": true
   },
   "outputs": [],
   "source": [
    "dl = DistanceLearn()"
   ]
  },
  {
   "cell_type": "code",
   "execution_count": 3,
   "metadata": {
    "collapsed": false
   },
   "outputs": [
    {
     "name": "stdout",
     "output_type": "stream",
     "text": [
      "Iteration limit exceeded    (Exit mode 9)\n",
      "            Current function value: 1.09576977415e-11\n",
      "            Iterations: 101\n",
      "            Function evaluations: 1018\n",
      "            Gradient evaluations: 101\n",
      "[ 1.00000462  1.00000078]\n",
      "[[ 0.25104121  0.23132464]\n",
      " [ 0.4427217   0.58072927]]\n"
     ]
    }
   ],
   "source": [
    "C = np.array([[.3, .2],\n",
    "              [.1, .8]])\n",
    "confusion_matrix = np.array([[ 0, 1],\n",
    "                             [ 1, 0]])\n",
    "C_transformed = dl.RLearn(C.T, confusion_matrix, epsilon=0).T\n"
   ]
  },
  {
   "cell_type": "code",
   "execution_count": 4,
   "metadata": {
    "collapsed": false
   },
   "outputs": [],
   "source": [
    "import matplotlib.pyplot as plt\n",
    "%matplotlib inline\n",
    "def PlotVec( v, show=False, c='k' ):\n",
    "    plt.plot([0, v[0]], [0, v[1]], color=c)\n",
    "    if show:\n",
    "        plt.show()\n"
   ]
  },
  {
   "cell_type": "code",
   "execution_count": 5,
   "metadata": {
    "collapsed": false
   },
   "outputs": [
    {
     "data": {
      "image/png": "[encoded data removed]",
      "text/plain": [
       "<matplotlib.figure.Figure at 0x10a44fa50>"
      ]
     },
     "metadata": {},
     "output_type": "display_data"
    }
   ],
   "source": [
    "PlotVec(C.T[:,0],c='r')\n",
    "PlotVec(C.T[:,1],c='r')\n",
    "\n",
    "PlotVec(C_transformed.T[:,0],c='b')\n",
    "PlotVec(C_transformed.T[:,0],c='b')"
   ]
  },
  {
   "cell_type": "code",
   "execution_count": null,
   "metadata": {
    "collapsed": true
   },
   "outputs": [],
   "source": []
  }
 ],
 "metadata": {
  "kernelspec": {
   "display_name": "Python 2",
   "language": "python",
   "name": "python2"
  },
  "language_info": {
   "codemirror_mode": {
    "name": "ipython",
    "version": 2
   },
   "file_extension": ".py",
   "mimetype": "text/x-python",
   "name": "python",
   "nbconvert_exporter": "python",
   "pygments_lexer": "ipython2",
   "version": "2.7.10"
  }
 },
 "nbformat": 4,
 "nbformat_minor": 0
}
