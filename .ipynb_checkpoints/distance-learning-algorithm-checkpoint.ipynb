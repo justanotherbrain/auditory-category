{
 "cells": [
  {
   "cell_type": "code",
   "execution_count": 43,
   "metadata": {
    "collapsed": true
   },
   "outputs": [],
   "source": [
    "import numpy as np\n",
    "import matplotlib.pyplot as plt\n",
    "%matplotlib inline"
   ]
  },
  {
   "cell_type": "code",
   "execution_count": 322,
   "metadata": {
    "collapsed": true
   },
   "outputs": [],
   "source": [
    "# Visualization\n",
    "\n",
    "def RotateVec( u, angle ):\n",
    "    R = np.array([[np.cos(angle), -np.sin(angle)], [np.sin(angle), np.cos(angle)]])\n",
    "    if np.shape( u ) != [2,1]:\n",
    "        np.reshape(u, (2,1))\n",
    "    return np.dot(R, u)\n",
    "    \n",
    "def PlotVec( v, show=False, c='k' ):\n",
    "    plt.plot([0, v[0]], [0, v[1]], color=c)\n",
    "    if show:\n",
    "        plt.show()\n"
   ]
  },
  {
   "cell_type": "code",
   "execution_count": 195,
   "metadata": {
    "collapsed": false
   },
   "outputs": [],
   "source": [
    "class DistanceLearn:\n",
    "    class Visualization:\n",
    "        def RotateVec(self, u, angle ):\n",
    "            R = np.array([[np.sin(angle), -np.cos(angle)], [np.cos(angle), np.sin(angle)]])\n",
    "            if np.shape( u ) != [2,1]:\n",
    "                np.reshape(u, (2,1))\n",
    "            return np.dot(R, u)\n",
    "    \n",
    "        def PlotVec(self, v, ax=\"none\", show=False ):\n",
    "            if isinstance(ax, basestring):\n",
    "                plt.plot([0, v[0]], [0, v[1]], 'k')\n",
    "                plt.xlim([0,1])\n",
    "                plt.ylim([0,1])\n",
    "                if show:\n",
    "                    plt.show()\n",
    "            else:\n",
    "                ax.plot([0, v[0]], [0, v[1]], 'k')\n",
    "                ax.set_xlim([0,1])\n",
    "                ax.set_ylim([0,1])\n",
    "\n",
    "    \n",
    "    def Stim2Cell(self, S ):\n",
    "        \"\"\"\n",
    "        Input\n",
    "        S :  Stimulus vectors (each col is a stimulus)\n",
    "        \n",
    "        Return\n",
    "        C :  Cell vectors (each col is a cell)\n",
    "        \"\"\"\n",
    "        \n",
    "        self.n_stim = np.shape(S)[1]\n",
    "        self.n_cell = np.shape(S)[0]\n",
    "        \"\"\"\n",
    "        S_flat = S.flatten(order='F')\n",
    "        S_flat = np.reshape( S_flat, (len(S_flat), 1) )\n",
    "        C = []\n",
    "        for i in range(self.n_cell):\n",
    "            m = np.zeros( (self.n_cell, len(S_flat)) )\n",
    "            for j in range(self.n_stim):\n",
    "                m[j, i + j*self.n_cell] = 1\n",
    "            c = np.dot(m, S_flat)\n",
    "            C.append(c)\n",
    "        C = np.array(C)[:,:,0].T\n",
    "        \"\"\"\n",
    "        return S.T\n",
    "    \n",
    "    def Cell2Stim( self, C ):\n",
    "        return C.T\n",
    "    \n",
    "    def GenerateRotationMatrix( self, angle ):\n",
    "        R = np.array([[np.cos(angle), -np.sin(angle)], [np.sin(angle), np.cos(angle)]])\n",
    "        return R\n",
    "    \n",
    "    def AdjustCells(self, C, D ):\n",
    "        \"\"\"\n",
    "        Input:\n",
    "        C :  Cell vectors (each col is a cell)\n",
    "        D :  Distance matrix\n",
    "        \n",
    "        Return:\n",
    "        C_p:  Adjusted cell vectors\n",
    "        \"\"\"\n",
    "        self.n_cell = np.shape(C)[1]\n",
    "        self.n_stim = np.shape(C)[0]\n",
    "        C_p = np.zeros((np.shape(C)))\n",
    "        for i in range(self.n_stim):\n",
    "            for j in range(i,self.n_stim):\n",
    "                if (i == j):\n",
    "                    continue\n",
    "                for k in range(self.n_cell):\n",
    "                    theta = np.arccos( D[i,j] )\n",
    "                    phi = np.arccos( C[i,k]/np.linalg.norm(C[:,k]) )\n",
    "                    phi_p = (2 * theta * phi)/np.pi\n",
    "                    alpha = ((np.pi/2) - theta)/2\n",
    "                    var_phi = phi_p + alpha\n",
    "                    delta =  var_phi - phi\n",
    "                    R = self.GenerateRotationMatrix( delta )\n",
    "                    C_p[:,k] = np.dot(R, C[:,k])\n",
    "        return C_p\n",
    "        \n",
    "        \n",
    "    def GeneralAdjustCells( self, C, D ):\n",
    "        self.n_cell = np.shape(C)[1]\n",
    "        self.n_stim = np.shape(C)[0]\n",
    "        C_p = np.zeros((np.shape(C)))\n",
    "        for i in range(self.n_stim):\n",
    "            for j in range(i, self.n_stim):\n",
    "                if (i==j):\n",
    "                    continue\n",
    "                for k in range(self.n_cell):\n",
    "                    \n",
    "    \n",
    "    def AdjustStim( self, S, D, vis=False ):\n",
    "        C = self.Stim2Cell( S )\n",
    "        C_p = self.AdjustCells( C, D )\n",
    "        S_p = self.Cell2Stim( C_p )\n",
    "        \n",
    "        if vis:\n",
    "            V = self.Visualization()\n",
    "            f, (ax1, ax2) = plt.subplots(1, 2, sharey=True)\n",
    "            plt.title(\"cell space\")\n",
    "            for i in range(self.n_stim):\n",
    "                V.PlotVec(S[:,i], ax=ax1 )\n",
    "                V.PlotVec(S_p[:,i], ax=ax2)\n",
    "        return S_p\n",
    "\n",
    "        \n",
    "    \n",
    "    "
   ]
  },
  {
   "cell_type": "code",
   "execution_count": 357,
   "metadata": {
    "collapsed": false
   },
   "outputs": [
    {
     "name": "stdout",
     "output_type": "stream",
     "text": [
      "[[ 0.45229121  0.66740742]\n",
      " [ 0.58402422  0.43464434]]\n",
      "[ 0.32482955  0.69391005]\n"
     ]
    },
    {
     "data": {
      "image/png": "[encoded data removed]",
      "text/plain": [
       "<matplotlib.figure.Figure at 0x7f6e5bd4de10>"
      ]
     },
     "metadata": {},
     "output_type": "display_data"
    }
   ],
   "source": [
    "# 2 stimuli, 2 cells\n",
    "dl = DistanceLearn()\n",
    "S = np.array([[.1,.8],\n",
    "              [.7, .2]])\n",
    "D = np.ones((2,2)) * .9\n",
    "S_p=dl.AdjustStim(S, D, vis=True)\n",
    "print(S_p)\n",
    "\n",
    "a = (np.pi/2 - .9)/2\n",
    "A = np.eye(2)\n",
    "A[:,0] = RotateVec(A[:,0], a)\n",
    "A[:,1] = RotateVec(A[:,1], -a)\n",
    "\n",
    "print(np.dot(A.T,S[:,0]))"
   ]
  },
  {
   "cell_type": "code",
   "execution_count": 350,
   "metadata": {
    "collapsed": false
   },
   "outputs": [
    {
     "ename": "ValueError",
     "evalue": "total size of new array must be unchanged",
     "output_type": "error",
     "traceback": [
      "\u001b[1;31m---------------------------------------------------------------------------\u001b[0m",
      "\u001b[1;31mValueError\u001b[0m                                Traceback (most recent call last)",
      "\u001b[1;32m<ipython-input-350-80c40911bcf9>\u001b[0m in \u001b[0;36m<module>\u001b[1;34m()\u001b[0m\n\u001b[0;32m      7\u001b[0m \u001b[0ma\u001b[0m \u001b[1;33m=\u001b[0m \u001b[1;33m(\u001b[0m\u001b[0mnp\u001b[0m\u001b[1;33m.\u001b[0m\u001b[0mpi\u001b[0m\u001b[1;33m/\u001b[0m\u001b[1;36m2\u001b[0m \u001b[1;33m-\u001b[0m \u001b[0md12\u001b[0m\u001b[1;33m)\u001b[0m\u001b[1;33m/\u001b[0m\u001b[1;36m2\u001b[0m\u001b[1;33m\u001b[0m\u001b[0m\n\u001b[0;32m      8\u001b[0m \u001b[0mA\u001b[0m \u001b[1;33m=\u001b[0m \u001b[0mnp\u001b[0m\u001b[1;33m.\u001b[0m\u001b[0meye\u001b[0m\u001b[1;33m(\u001b[0m\u001b[1;36m1\u001b[0m\u001b[1;33m)\u001b[0m\u001b[1;33m\u001b[0m\u001b[0m\n\u001b[1;32m----> 9\u001b[1;33m \u001b[0mA\u001b[0m\u001b[1;33m[\u001b[0m\u001b[1;33m:\u001b[0m\u001b[1;33m,\u001b[0m\u001b[1;36m0\u001b[0m\u001b[1;33m]\u001b[0m \u001b[1;33m=\u001b[0m \u001b[0mRotateVec\u001b[0m\u001b[1;33m(\u001b[0m\u001b[0mA\u001b[0m\u001b[1;33m[\u001b[0m\u001b[1;33m:\u001b[0m\u001b[1;33m,\u001b[0m\u001b[1;36m0\u001b[0m\u001b[1;33m]\u001b[0m\u001b[1;33m,\u001b[0m \u001b[0ma\u001b[0m\u001b[1;33m)\u001b[0m\u001b[1;33m\u001b[0m\u001b[0m\n\u001b[0m\u001b[0;32m     10\u001b[0m \u001b[0mA\u001b[0m\u001b[1;33m[\u001b[0m\u001b[1;33m:\u001b[0m\u001b[1;33m,\u001b[0m\u001b[1;36m1\u001b[0m\u001b[1;33m]\u001b[0m \u001b[1;33m=\u001b[0m \u001b[0mRotateVec\u001b[0m\u001b[1;33m(\u001b[0m\u001b[0mA\u001b[0m\u001b[1;33m[\u001b[0m\u001b[1;33m:\u001b[0m\u001b[1;33m,\u001b[0m\u001b[1;36m1\u001b[0m\u001b[1;33m]\u001b[0m\u001b[1;33m,\u001b[0m \u001b[1;33m-\u001b[0m\u001b[0ma\u001b[0m\u001b[1;33m)\u001b[0m\u001b[1;33m\u001b[0m\u001b[0m\n\u001b[0;32m     11\u001b[0m \u001b[1;32mprint\u001b[0m\u001b[1;33m(\u001b[0m\u001b[0mA\u001b[0m\u001b[1;33m)\u001b[0m\u001b[1;33m\u001b[0m\u001b[0m\n",
      "\u001b[1;32m<ipython-input-322-e88745ddabe3>\u001b[0m in \u001b[0;36mRotateVec\u001b[1;34m(u, angle)\u001b[0m\n\u001b[0;32m      4\u001b[0m     \u001b[0mR\u001b[0m \u001b[1;33m=\u001b[0m \u001b[0mnp\u001b[0m\u001b[1;33m.\u001b[0m\u001b[0marray\u001b[0m\u001b[1;33m(\u001b[0m\u001b[1;33m[\u001b[0m\u001b[1;33m[\u001b[0m\u001b[0mnp\u001b[0m\u001b[1;33m.\u001b[0m\u001b[0mcos\u001b[0m\u001b[1;33m(\u001b[0m\u001b[0mangle\u001b[0m\u001b[1;33m)\u001b[0m\u001b[1;33m,\u001b[0m \u001b[1;33m-\u001b[0m\u001b[0mnp\u001b[0m\u001b[1;33m.\u001b[0m\u001b[0msin\u001b[0m\u001b[1;33m(\u001b[0m\u001b[0mangle\u001b[0m\u001b[1;33m)\u001b[0m\u001b[1;33m]\u001b[0m\u001b[1;33m,\u001b[0m \u001b[1;33m[\u001b[0m\u001b[0mnp\u001b[0m\u001b[1;33m.\u001b[0m\u001b[0msin\u001b[0m\u001b[1;33m(\u001b[0m\u001b[0mangle\u001b[0m\u001b[1;33m)\u001b[0m\u001b[1;33m,\u001b[0m \u001b[0mnp\u001b[0m\u001b[1;33m.\u001b[0m\u001b[0mcos\u001b[0m\u001b[1;33m(\u001b[0m\u001b[0mangle\u001b[0m\u001b[1;33m)\u001b[0m\u001b[1;33m]\u001b[0m\u001b[1;33m]\u001b[0m\u001b[1;33m)\u001b[0m\u001b[1;33m\u001b[0m\u001b[0m\n\u001b[0;32m      5\u001b[0m     \u001b[1;32mif\u001b[0m \u001b[0mnp\u001b[0m\u001b[1;33m.\u001b[0m\u001b[0mshape\u001b[0m\u001b[1;33m(\u001b[0m \u001b[0mu\u001b[0m \u001b[1;33m)\u001b[0m \u001b[1;33m!=\u001b[0m \u001b[1;33m[\u001b[0m\u001b[1;36m2\u001b[0m\u001b[1;33m,\u001b[0m\u001b[1;36m1\u001b[0m\u001b[1;33m]\u001b[0m\u001b[1;33m:\u001b[0m\u001b[1;33m\u001b[0m\u001b[0m\n\u001b[1;32m----> 6\u001b[1;33m         \u001b[0mnp\u001b[0m\u001b[1;33m.\u001b[0m\u001b[0mreshape\u001b[0m\u001b[1;33m(\u001b[0m\u001b[0mu\u001b[0m\u001b[1;33m,\u001b[0m \u001b[1;33m(\u001b[0m\u001b[1;36m2\u001b[0m\u001b[1;33m,\u001b[0m\u001b[1;36m1\u001b[0m\u001b[1;33m)\u001b[0m\u001b[1;33m)\u001b[0m\u001b[1;33m\u001b[0m\u001b[0m\n\u001b[0m\u001b[0;32m      7\u001b[0m     \u001b[1;32mreturn\u001b[0m \u001b[0mnp\u001b[0m\u001b[1;33m.\u001b[0m\u001b[0mdot\u001b[0m\u001b[1;33m(\u001b[0m\u001b[0mR\u001b[0m\u001b[1;33m,\u001b[0m \u001b[0mu\u001b[0m\u001b[1;33m)\u001b[0m\u001b[1;33m\u001b[0m\u001b[0m\n\u001b[0;32m      8\u001b[0m \u001b[1;33m\u001b[0m\u001b[0m\n",
      "\u001b[1;32m/home/rabadi/.local/lib/python2.7/site-packages/numpy/core/fromnumeric.pyc\u001b[0m in \u001b[0;36mreshape\u001b[1;34m(a, newshape, order)\u001b[0m\n\u001b[0;32m    223\u001b[0m     \u001b[1;32mexcept\u001b[0m \u001b[0mAttributeError\u001b[0m\u001b[1;33m:\u001b[0m\u001b[1;33m\u001b[0m\u001b[0m\n\u001b[0;32m    224\u001b[0m         \u001b[1;32mreturn\u001b[0m \u001b[0m_wrapit\u001b[0m\u001b[1;33m(\u001b[0m\u001b[0ma\u001b[0m\u001b[1;33m,\u001b[0m \u001b[1;34m'reshape'\u001b[0m\u001b[1;33m,\u001b[0m \u001b[0mnewshape\u001b[0m\u001b[1;33m,\u001b[0m \u001b[0morder\u001b[0m\u001b[1;33m=\u001b[0m\u001b[0morder\u001b[0m\u001b[1;33m)\u001b[0m\u001b[1;33m\u001b[0m\u001b[0m\n\u001b[1;32m--> 225\u001b[1;33m     \u001b[1;32mreturn\u001b[0m \u001b[0mreshape\u001b[0m\u001b[1;33m(\u001b[0m\u001b[0mnewshape\u001b[0m\u001b[1;33m,\u001b[0m \u001b[0morder\u001b[0m\u001b[1;33m=\u001b[0m\u001b[0morder\u001b[0m\u001b[1;33m)\u001b[0m\u001b[1;33m\u001b[0m\u001b[0m\n\u001b[0m\u001b[0;32m    226\u001b[0m \u001b[1;33m\u001b[0m\u001b[0m\n\u001b[0;32m    227\u001b[0m \u001b[1;33m\u001b[0m\u001b[0m\n",
      "\u001b[1;31mValueError\u001b[0m: total size of new array must be unchanged"
     ]
    }
   ],
   "source": [
    "# 2 stimuli, 1 cell\n",
    "dl = DistanceLearn()\n",
    "S = np.array([[.3,.8]])\n",
    "D = np.ones((2,2)) * .9\n",
    "S_p=dl.AdjustStim(S, D, vis=False)\n",
    "\n",
    "\n",
    "\n",
    "print(S_p)"
   ]
  },
  {
   "cell_type": "code",
   "execution_count": 228,
   "metadata": {
    "collapsed": false
   },
   "outputs": [
    {
     "data": {
      "image/png": "[encoded data removed]",
      "text/plain": [
       "<matplotlib.figure.Figure at 0x7f6e5c0db210>"
      ]
     },
     "metadata": {},
     "output_type": "display_data"
    }
   ],
   "source": [
    "# 2 stimuli, 3 cell\n",
    "dl = DistanceLearn()\n",
    "S = np.array([[.3,.8],\n",
    "              [.4, .1],\n",
    "              [.9, .2]])\n",
    "D = np.ones((3,3)) * .9\n",
    "S_p=dl.AdjustStim(S, D, vis=True)"
   ]
  },
  {
   "cell_type": "code",
   "execution_count": 263,
   "metadata": {
    "collapsed": false
   },
   "outputs": [
    {
     "name": "stdout",
     "output_type": "stream",
     "text": [
      "orig\n",
      "[[ 0.2  0.4]\n",
      " [ 0.1  0.8]\n",
      " [ 0.5  0.1]]\n",
      "\n",
      " change 1,2\n",
      "[[ 0.19337356  0.44911765]\n",
      " [ 0.11227941  0.77349424]\n",
      " [ 0.5         0.1       ]]\n",
      "\n",
      " change 1,3\n",
      "[[ 0.29134819  0.40409021]\n",
      " [ 0.11227941  0.77349424]\n",
      " [ 0.45001063  0.22004037]]\n",
      "\n",
      " change 2,3\n",
      "[[ 0.29134819  0.40409021]\n",
      " [ 0.24786508  0.67390602]\n",
      " [ 0.39201931  0.43881862]]\n"
     ]
    },
    {
     "data": {
      "image/png": "[encoded data removed]",
      "text/plain": [
       "<matplotlib.figure.Figure at 0x7f6e5c276490>"
      ]
     },
     "metadata": {},
     "output_type": "display_data"
    }
   ],
   "source": [
    "S = np.array([[.2, .1, .5],\n",
    "              [.4, .8, .1]])\n",
    "C = S.T\n",
    "print(\"orig\")\n",
    "print(C)\n",
    "\n",
    "C_p = dl.AdjustCells( C[[0,1],:], np.reshape( np.array([0,.3]), (1,2) ) )\n",
    "PlotVec(C_p[[0,1],0])\n",
    "PlotVec(C_p[[0,1],1])\n",
    "C_n = C.copy()\n",
    "C_n[[0,1],:] = C_p\n",
    "print(\"\\n change 1,2\")\n",
    "print(C_n)\n",
    "\n",
    "C_p = dl.AdjustCells( C_n[[0,2],:], np.reshape( np.array([0,.7]), (1,2) ) )\n",
    "PlotVec(C_p[[0,1],0],c='r')\n",
    "PlotVec(C_p[[0,1],1],c='r')\n",
    "C_n[[0,2],:] = C_p\n",
    "print(\"\\n change 1,3\")\n",
    "print(C_n)\n",
    "\n",
    "C_p = dl.AdjustCells( C_n[[1,2],:], np.reshape( np.array([0,.8]), (1,2) ) )\n",
    "PlotVec(C_p[[0,1],0],c='b')\n",
    "PlotVec(C_p[[0,1],1],c='b')\n",
    "C_n[[1,2],:] = C_p\n",
    "print(\"\\n change 2,3\")\n",
    "print(C_n)\n"
   ]
  },
  {
   "cell_type": "code",
   "execution_count": 272,
   "metadata": {
    "collapsed": false
   },
   "outputs": [
    {
     "name": "stdout",
     "output_type": "stream",
     "text": [
      "orig\n",
      "[[ 0.2  0.4]\n",
      " [ 0.1  0.8]\n",
      " [ 0.5  0.1]]\n",
      "\n",
      " change 1,2\n",
      "[[ 0.19337356  0.44911765]\n",
      " [ 0.11227941  0.77349424]\n",
      " [ 0.          0.        ]]\n",
      "[ 1.51522732]\n",
      "[ nan]\n",
      "1.19275395065\n"
     ]
    },
    {
     "name": "stderr",
     "output_type": "stream",
     "text": [
      "/home/rabadi/.local/lib/python2.7/site-packages/ipykernel/__main__.py:19: RuntimeWarning: invalid value encountered in arccos\n"
     ]
    },
    {
     "data": {
      "image/png": "[encoded data removed]",
      "text/plain": [
       "<matplotlib.figure.Figure at 0x7f6e5f9acb10>"
      ]
     },
     "metadata": {},
     "output_type": "display_data"
    }
   ],
   "source": [
    "S = np.array([[.2, .1, .5],\n",
    "              [.4, .8, .1]])\n",
    "C = S.T\n",
    "print(\"orig\")\n",
    "print(C)\n",
    "\n",
    "C_p = dl.AdjustCells( C[[0,1],:], np.reshape( np.array([0,.3]), (1,2) ) )\n",
    "PlotVec(C_p[[0,1],0])\n",
    "PlotVec(C_p[[0,1],1])\n",
    "C_n = C.copy()\n",
    "C_n[[0,1],:] = C_p\n",
    "print(\"\\n change 1,2\")\n",
    "print(C_n)\n",
    "\n"
   ]
  },
  {
   "cell_type": "code",
   "execution_count": 349,
   "metadata": {
    "collapsed": false
   },
   "outputs": [
    {
     "name": "stdout",
     "output_type": "stream",
     "text": [
      "[[ 0.80483545  0.          0.        ]\n",
      " [ 0.59349802  1.          0.        ]\n",
      " [ 0.          0.          1.        ]]\n",
      "[[ 0.80483545  0.59349802  0.68380453]\n",
      " [ 0.59349802  0.80483545  0.36140316]\n",
      " [ 0.          0.          1.        ]]\n",
      "[[ 0.80483545  0.59349802  0.68380453]\n",
      " [ 0.59349802  0.80483545  0.36140316]\n",
      " [ 0.          0.          0.22656553]]\n",
      "0.3\n",
      "0.8\n",
      "0.7\n"
     ]
    }
   ],
   "source": [
    "S = np.eye(3)\n",
    "G = np.eye(3)\n",
    "d12 = .3\n",
    "d23 = .8\n",
    "d13 = .7\n",
    "\n",
    "\n",
    "a = (np.pi/2 - d12)/2\n",
    "\n",
    "S[:2,0] = RotateVec(S[:2,0], a)\n",
    "S[:2,1] = RotateVec(S[:2,1], -a)\n",
    "\n",
    "R = np.array([[np.cos(a), -np.sin(a), 0],\n",
    "              [np.sin(a), np.cos(a), 0],\n",
    "              [0, 0, 1]])\n",
    "\n",
    "G[:,0] = np.dot(R, G[:,0])\n",
    "print(G)\n",
    "\n",
    "test = np.dot(np.array([[np.cos(d13), np.cos(d23)]]), np.linalg.inv(S[[0,1],:2]))\n",
    "S[:2,2] = test\n",
    "print(S)\n",
    "S[2,2] = 1 - np.linalg.norm(S[:2,2])\n",
    "\n",
    "print(S)\n",
    "print(np.arccos(np.dot(S[:,0],S[:,1])))\n",
    "print(np.arccos(np.dot(S[:,1],S[:,2])))\n",
    "print(np.arccos(np.dot(S[:,0],S[:,2])))\n"
   ]
  },
  {
   "cell_type": "code",
   "execution_count": 346,
   "metadata": {
    "collapsed": false
   },
   "outputs": [
    {
     "data": {
      "text/plain": [
       "0.81731411458591774"
      ]
     },
     "execution_count": 346,
     "metadata": {},
     "output_type": "execute_result"
    }
   ],
   "source": []
  },
  {
   "cell_type": "code",
   "execution_count": null,
   "metadata": {
    "collapsed": true
   },
   "outputs": [],
   "source": []
  }
 ],
 "metadata": {
  "kernelspec": {
   "display_name": "Python 2",
   "language": "python",
   "name": "python2"
  },
  "language_info": {
   "codemirror_mode": {
    "name": "ipython",
    "version": 2
   },
   "file_extension": ".py",
   "mimetype": "text/x-python",
   "name": "python",
   "nbconvert_exporter": "python",
   "pygments_lexer": "ipython2",
   "version": "2.7.10"
  }
 },
 "nbformat": 4,
 "nbformat_minor": 0
}
